{
 "cells": [
  {
   "cell_type": "markdown",
   "metadata": {},
   "source": [
    "# Lab 2"
   ]
  },
  {
   "cell_type": "code",
   "execution_count": 25,
   "metadata": {},
   "outputs": [],
   "source": [
    "# dependencies\n",
    "import numpy as np;\n",
    "import matplotlib.pyplot as plt;"
   ]
  },
  {
   "cell_type": "markdown",
   "metadata": {},
   "source": [
    "## Euclidian Distance\n",
    "the euclidian distance $$r_{2}(\\textbf{u},\\textbf{v})$$ between two 2-dimensional vectors $$u = (u_{1},u_{2})$$ and $$v = (v_{1},v_{2})$$ is given by the following expression:\n",
    "$$r_{2}(u,v) = \\sqrt{(u_{1}-v_{1})^{2} + (u_{2}-v_{2})^{2}} = \\sqrt{\\sum_{i=1}^{2}(u_{i}-v_{i})^{2}}$$"
   ]
  },
  {
   "cell_type": "code",
   "execution_count": 26,
   "metadata": {},
   "outputs": [],
   "source": [
    "# computes the 1 x M vector of square distances for M x N and 1 x N data U,v respectively.\n",
    "def sq_dist(U,v):\n",
    "    # element wise difference, produces (M,N) shape array\n",
    "    x = (U-v)\n",
    "    return np.sum((x**2),axis=1)[None,:] # sum over the rows, and keep the outside dimension"
   ]
  },
  {
   "cell_type": "code",
   "execution_count": 27,
   "metadata": {},
   "outputs": [
    {
     "name": "stdout",
     "output_type": "stream",
     "text": [
      "[[9]]\n",
      "[[3.]]\n"
     ]
    }
   ],
   "source": [
    "# let's define some vectors\n",
    "\n",
    "v = np.array([[2,3,5,7,8]])\n",
    "u = np.array([[2,5,7,8,8]])\n",
    "\n",
    "\n",
    "print(sq_dist(u,v))\n",
    "print(np.sqrt(sq_dist(u,v)))"
   ]
  },
  {
   "cell_type": "code",
   "execution_count": 28,
   "metadata": {},
   "outputs": [
    {
     "name": "stdout",
     "output_type": "stream",
     "text": [
      "[[58 79 71  4]]\n",
      "[[7.61577311 8.88819442 8.42614977 2.        ]]\n"
     ]
    }
   ],
   "source": [
    "# compute the euclidian distance between a row vector 1 x N and an M x N matrix\n",
    "A = np.array([[1,4,3,3,2],\n",
    "              [3,2,1,2,2],\n",
    "              [1,3,2,2,2],\n",
    "              [1,4,5,6,7]])\n",
    "\n",
    "sq_distances = sq_dist(A,v)\n",
    "\n",
    "print(sq_distances)\n",
    "print(np.sqrt(sq_distances))"
   ]
  },
  {
   "cell_type": "code",
   "execution_count": 29,
   "metadata": {},
   "outputs": [],
   "source": [
    "def for_sq_dist(U,v):\n",
    "    (M,N) = U.shape\n",
    "    x = np.zeros((1,M))\n",
    "    for i in range(M):\n",
    "        x[0][i] = np.sum((U[i] - v[0])**2,axis=0)\n",
    "    return x"
   ]
  },
  {
   "cell_type": "code",
   "execution_count": 30,
   "metadata": {},
   "outputs": [
    {
     "name": "stdout",
     "output_type": "stream",
     "text": [
      "[[7.61577311 8.88819442 8.42614977 2.        ]]\n",
      "9.52 µs ± 133 ns per loop (mean ± std. dev. of 7 runs, 100000 loops each)\n",
      "[[7.61577311 8.88819442 8.42614977 2.        ]]\n",
      "31.4 µs ± 943 ns per loop (mean ± std. dev. of 7 runs, 10000 loops each)\n"
     ]
    }
   ],
   "source": [
    "print(np.sqrt(sq_dist(A,v)))\n",
    "%timeit np.sqrt(sq_dist(A,v))\n",
    "print( np.sqrt(for_sq_dist(A,v)))\n",
    "%timeit np.sqrt(for_sq_dist(A,v))\n",
    "                "
   ]
  },
  {
   "cell_type": "markdown",
   "metadata": {},
   "source": [
    "## Movie Recomendation System\n"
   ]
  },
  {
   "cell_type": "code",
   "execution_count": 31,
   "metadata": {},
   "outputs": [
    {
     "name": "stdout",
     "output_type": "stream",
     "text": [
      "[[ 3.  7.  4.  9.  9.  7.]\n",
      " [ 7.  5.  5.  3.  8.  8.]\n",
      " [ 7.  5.  5.  0.  8.  4.]\n",
      " [ 5.  6.  8.  5.  9.  8.]\n",
      " [ 5.  8.  8.  8. 10.  9.]\n",
      " [ 7.  7.  8.  4.  7.  8.]]\n"
     ]
    }
   ],
   "source": [
    "# the rows are critics, the columns are movies\n",
    "data = np.loadtxt(\"data.txt\",dtype='float',delimiter='\\t')\n",
    "print(data)"
   ]
  },
  {
   "cell_type": "code",
   "execution_count": 32,
   "metadata": {},
   "outputs": [
    {
     "name": "stdout",
     "output_type": "stream",
     "text": [
      "[7. 5. 5. 0. 8. 4.]\n"
     ]
    }
   ],
   "source": [
    "# rankings of critic 3 for all movies\n",
    "print(data[2,:])"
   ]
  },
  {
   "cell_type": "code",
   "execution_count": 33,
   "metadata": {},
   "outputs": [],
   "source": [
    "%run Plotting.ipynb"
   ]
  },
  {
   "cell_type": "code",
   "execution_count": 34,
   "metadata": {},
   "outputs": [
    {
     "data": {
      "image/png": "[encoded data removed]",
      "text/plain": [
       "<Figure size 432x288 with 1 Axes>"
      ]
     },
     "metadata": {
      "needs_background": "light"
     },
     "output_type": "display_data"
    }
   ],
   "source": [
    "#plot of 2d review space for movies 2 and 3, where each point is a reviewer\n",
    "\n",
    "X = data[:,3] # movie 4\n",
    "Y = data[:,5] # movie 6\n",
    "Labels = [str(x+1) for x in range(X.size)]\n",
    "scatter_labelled(X,Y,Labels,\"movie 4\",\"movie 6\",-1,11,-1,11)\n"
   ]
  },
  {
   "cell_type": "markdown",
   "metadata": {},
   "source": [
    "## 3.1 Compute Euclidian distance between all critics"
   ]
  },
  {
   "cell_type": "code",
   "execution_count": 35,
   "metadata": {},
   "outputs": [
    {
     "name": "stdout",
     "output_type": "stream",
     "text": [
      "[[ 0.          7.68114575 10.58300524  6.164414    5.19615242  7.87400787]\n",
      " [ 7.68114575  0.          5.          4.35889894  7.21110255  3.87298335]\n",
      " [10.58300524  5.          0.          7.48331477 10.72380529  6.78232998]\n",
      " [ 6.164414    4.35889894  7.48331477  0.          3.87298335  3.16227766]\n",
      " [ 5.19615242  7.21110255 10.72380529  3.87298335  0.          5.56776436]\n",
      " [ 7.87400787  3.87298335  6.78232998  3.16227766  5.56776436  0.        ]]\n"
     ]
    }
   ],
   "source": [
    "# given two matrices M X D, with the same D, calculates the euclidian distance between each row vector in A and each vector in B\n",
    "# the distance between row i in A and j in B, will be in the returned matrix C at position i,j\n",
    "def euclid_dist(A,B):\n",
    "    # Get matrix size\n",
    "    (M,N) = A.shape\n",
    "    \n",
    "    # define square matrix to hold distances between critics (rows)\n",
    "    critic_dist = np.zeros((M,M))\n",
    "\n",
    "    for i in range(M):\n",
    "        critic_dist[i] = np.sqrt(sq_dist(A,B[i]))\n",
    "    return critic_dist\n",
    "\n",
    "print(euclid_dist(data,data))"
   ]
  },
  {
   "cell_type": "code",
   "execution_count": 36,
   "metadata": {},
   "outputs": [
    {
     "name": "stdout",
     "output_type": "stream",
     "text": [
      "[[ 0.          7.68114575 10.58300524  6.164414    5.19615242  7.87400787]\n",
      " [ 7.68114575  0.          5.          4.35889894  7.21110255  3.87298335]\n",
      " [10.58300524  5.          0.          7.48331477 10.72380529  6.78232998]\n",
      " [ 6.164414    4.35889894  7.48331477  0.          3.87298335  3.16227766]\n",
      " [ 5.19615242  7.21110255 10.72380529  3.87298335  0.          5.56776436]\n",
      " [ 7.87400787  3.87298335  6.78232998  3.16227766  5.56776436  0.        ]]\n"
     ]
    }
   ],
   "source": [
    "# we can also use vectorisation, and do some sneakery to do this ultra fast\n",
    "# (x-y)^2= -2xy + x^2 + y^2 \n",
    "\n",
    "A = data\n",
    "B = data\n",
    "\n",
    "# given two matrices M X D, with the same D, calculates the euclidian distance between each row vector in A and each vector in B\n",
    "# the distance between row i in A and j in B, will be in the returned matrix C, D X D at position i,j\n",
    "def euclid_dist_vector(X, Y):\n",
    "    dists = -2 * np.dot(X, Y.T) + np.sum(Y**2,    axis=1) + np.sum(X**2, axis=1)[:, np.newaxis]\n",
    "    return np.sqrt(dists)\n",
    "\n",
    "print(euclid_dist_vector(data,data))"
   ]
  },
  {
   "cell_type": "code",
   "execution_count": null,
   "metadata": {},
   "outputs": [],
   "source": [
    "#compare the speed\n",
    "testData = np.random.rand(20000,30) # 500 vectors with 10 columns\n",
    "testData2 = np.random.rand(20000,30) # 200000 vectors with 10 columns\n",
    "\n",
    "%timeit euclid_dist(testData,testData2)\n",
    "\n",
    "print(euclid_dist(testData,testData2))\n",
    "\n",
    "%timeit euclid_dist_vector(testData,testData2)\n",
    "print(euclid_dist_vector(testData,testData2))"
   ]
  },
  {
   "cell_type": "markdown",
   "metadata": {},
   "source": [
    "## 3.2 User Ratings"
   ]
  },
  {
   "cell_type": "code",
   "execution_count": null,
   "metadata": {},
   "outputs": [],
   "source": [
    "#get some user data, indexing starts at 1, so convert from DUMB FUCK MATLAB to NUMPY< YEEE\n",
    "u1_scores = np.array([[2,7]])\n",
    "u1_movies = np.array([4,6]) - 1\n",
    "\n",
    "u2_scores = np.array([[6,9,6]])\n",
    "u2_movies = np.array([2,3,6]) -1 \n",
    "\n",
    "#find the closest critic to each user by distance to critics on the vectors with only the movies the users have seen\n",
    "\n",
    "#we use only the columns from data in\n",
    "u1_critic_dist = euclid_dist_vector(u1_scores,data[:,u1_movies])\n",
    "u2_critic_dist = euclid_dist_vector(u2_scores,data[:,u2_movies])\n",
    "\n",
    "#we find the smallest distance and remember the index, which is the critic index which is the clostest to the given user\n",
    "u1_closest_critic = np.argmin(u1_critic_dist)\n",
    "u2_closest_critic = np.argmin(u2_critic_dist)\n",
    "\n",
    "# dispaly the critic number with 1-based indexing\n",
    "print(u1_closest_critic + 1)\n",
    "print(u2_closest_critic + 1)"
   ]
  },
  {
   "cell_type": "code",
   "execution_count": null,
   "metadata": {},
   "outputs": [],
   "source": [
    "# let's plot the 2-dimensional review space of the critics and user1 of the movies 4 and 6\n",
    "reviewSpace = np.append(data[:,u1_movies],u1_scores,axis=0)\n",
    "X = reviewSpace[:,0] # movie 4\n",
    "Y = reviewSpace[:,1] # movie 6\n",
    "\n",
    "Labels = [str(x + 1) for x in range(X.size)]\n",
    "Labels[X.size - 1] = \"User_1\"\n",
    "\n",
    "scatter_labelled(X,Y,Labels,\"movie 4\",\"movie 6\",-1,11,-1,11)"
   ]
  },
  {
   "cell_type": "markdown",
   "metadata": {},
   "source": [
    "## Similarity Measure"
   ]
  },
  {
   "cell_type": "code",
   "execution_count": null,
   "metadata": {},
   "outputs": [],
   "source": [
    "def similarity_measure(u,v):\n",
    "    return 1/(1 + euclid_dist_vector(u,v))\n",
    "def similarity(distance):\n",
    "    return 1/(1 + distance)"
   ]
  },
  {
   "cell_type": "code",
   "execution_count": null,
   "metadata": {},
   "outputs": [],
   "source": [
    "print(similarity(u2_critic_dist))"
   ]
  },
  {
   "cell_type": "code",
   "execution_count": null,
   "metadata": {},
   "outputs": [],
   "source": []
  },
  {
   "cell_type": "code",
   "execution_count": null,
   "metadata": {},
   "outputs": [],
   "source": []
  },
  {
   "cell_type": "code",
   "execution_count": null,
   "metadata": {},
   "outputs": [],
   "source": []
  }
 ],
 "metadata": {
  "kernelspec": {
   "display_name": "Python 3",
   "language": "python",
   "name": "python3"
  },
  "language_info": {
   "codemirror_mode": {
    "name": "ipython",
    "version": 3
   },
   "file_extension": ".py",
   "mimetype": "text/x-python",
   "name": "python",
   "nbconvert_exporter": "python",
   "pygments_lexer": "ipython3",
   "version": "3.6.8"
  }
 },
 "nbformat": 4,
 "nbformat_minor": 4
}
