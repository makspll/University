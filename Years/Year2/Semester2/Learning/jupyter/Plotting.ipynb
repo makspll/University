{
 "cells": [
  {
   "cell_type": "code",
   "execution_count": 20,
   "metadata": {},
   "outputs": [],
   "source": [
    "#draws a scatter graph given X,Y 1D arrays, and a set of labels for each point, along with min max values for axles and axis titles\n",
    "def scatter_labelled(fig,ax,X,Y,L,titleX=\"X\",titleY=\"Y\",xmin=0,xmax=10,ymin=0,ymax=10,marker='.',color=\"blue\",facecolors='none', edgecolors='r'):\n",
    "\n",
    "    ax.spines['right'].set_visible(False)\n",
    "    ax.spines['top'].set_visible(False)\n",
    "\n",
    "    (M,N) = (X.size,Y.size)\n",
    "\n",
    "    plt.axis([xmin,xmax,ymin,ymax])\n",
    "    scat = plt.scatter(X,Y,marker=marker,color=color,facecolors=facecolors,edgecolors=edgecolors)\n",
    "    plt.xlabel(titleX)\n",
    "    plt.ylabel(titleY)\n",
    "\n",
    "    for i,label in enumerate(L):\n",
    "        x = X[i]\n",
    "        y = Y[i]\n",
    "        plt.text(x+0.05,y+0.05,label,fontsize=9)\n",
    "    plt.show()\n",
    "    return scat"
   ]
  },
  {
   "cell_type": "code",
   "execution_count": 21,
   "metadata": {},
   "outputs": [],
   "source": [
    "#same as scatter_labelled but without the labels on each data point\n",
    "def scatter_unlabelled(fig,ax,X,Y,titleX=\"X\",titleY=\"Y\",xmin=0,xmax=10,ymin=0,ymax=10,marker='.',color=\"blue\",facecolors='none', edgecolors='r'):\n",
    "\n",
    "    ax.spines['right'].set_visible(False)\n",
    "    ax.spines['top'].set_visible(False)\n",
    "\n",
    "    (M,N) = (X.size,Y.size)\n",
    "\n",
    "    plt.axis([xmin,xmax,ymin,ymax])\n",
    "    scat = plt.scatter(X,Y,marker=marker,color=color,facecolors=facecolors,edgecolors=edgecolors)\n",
    "    plt.xlabel(titleX)\n",
    "    plt.ylabel(titleY)\n",
    "    \n",
    "    plt.show()\n",
    "    return scat"
   ]
  },
  {
   "cell_type": "code",
   "execution_count": 22,
   "metadata": {},
   "outputs": [],
   "source": [
    "# given a scatter graph, allow you to add a new point to the scatter,\n",
    "# with a different marker\n",
    "import matplotlib as matplotlib\n",
    "def addPoint(scat, new_point, c='k'):\n",
    "    old_off = scat.get_offsets()\n",
    "    new_off = np.concatenate([old_off,np.array(new_point, ndmin=2)])\n",
    "    old_c = scat.get_facecolors()\n",
    "    new_c = np.concatenate([old_c, np.array(matplotlib.colors.to_rgba(c), ndmin=2)])\n",
    "\n",
    "    scat.set_offsets(new_off)\n",
    "    scat.set_facecolors(new_c)\n",
    "\n",
    "    scat.axes.figure.canvas.draw_idle()"
   ]
  },
  {
   "cell_type": "code",
   "execution_count": null,
   "metadata": {},
   "outputs": [],
   "source": []
  }
 ],
 "metadata": {
  "kernelspec": {
   "display_name": "Python 3",
   "language": "python",
   "name": "python3"
  },
  "language_info": {
   "codemirror_mode": {
    "name": "ipython",
    "version": 3
   },
   "file_extension": ".py",
   "mimetype": "text/x-python",
   "name": "python",
   "nbconvert_exporter": "python",
   "pygments_lexer": "ipython3",
   "version": "3.6.8"
  }
 },
 "nbformat": 4,
 "nbformat_minor": 4
}
